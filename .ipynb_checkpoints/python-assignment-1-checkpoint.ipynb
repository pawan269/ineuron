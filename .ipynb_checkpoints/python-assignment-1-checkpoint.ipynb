{
 "cells": [
  {
   "cell_type": "code",
   "execution_count": 2,
   "metadata": {
    "colab": {
     "base_uri": "https://localhost:8080/",
     "height": 34
    },
    "colab_type": "code",
    "executionInfo": {
     "elapsed": 1257,
     "status": "ok",
     "timestamp": 1592397373817,
     "user": {
      "displayName": "Pawan Pandey",
      "photoUrl": "https://lh3.googleusercontent.com/a-/AOh14GiKye7JpFHJoc6m0v5jvZ2e0qnD5DrVXBnCOPlb1cc=s64",
      "userId": "12374727047427849619"
     },
     "user_tz": -330
    },
    "id": "QUTyZlVvRtjM",
    "outputId": "e1153e89-73a4-415e-9e11-3f9d3ddcefda"
   },
   "outputs": [
    {
     "name": "stdout",
     "output_type": "stream",
     "text": [
      "3199,\n"
     ]
    }
   ],
   "source": [
    "'''\n",
    "1. Write a program which will find all such numbers which are divisible by 7 but are not a multiple of 5, \n",
    "between 2000 and 3200 (both included). The numbers obtained should be printed in a comma-separated \n",
    "sequence on a single line.\n",
    "'''\n",
    "\n",
    "s = \"\"\n",
    "for i in range(2000, 3200):\n",
    "    j = i%7    \n",
    "    if (j == 0) :\n",
    "        k = i%5\n",
    "        if(k != 0):\n",
    "            s = str(i)+\",\"\n",
    "\n",
    "print(s)\n"
   ]
  },
  {
   "cell_type": "code",
   "execution_count": null,
   "metadata": {
    "colab": {
     "base_uri": "https://localhost:8080/",
     "height": 34
    },
    "colab_type": "code",
    "id": "qno2SM-jR77w",
    "outputId": "fca2111c-70d0-409e-cd41-66d756414b28"
   },
   "outputs": [],
   "source": [
    "'''\n",
    "2. Write a Python program to accept the user's first and last name and then getting them \n",
    "printed in the the reverse order with a space between first name and last name.\n",
    "'''\n",
    "\n",
    "first_name = input(\"first name: \")\n",
    "last_name = input(\"last name: \")\n",
    "\n",
    "reverse_name = []\n",
    "s = ''\n",
    "\n",
    "for i in range(len(first_name)):\n",
    "    reverse_name.append(first_name[i])\n",
    "reverse_name.append(' ')\n",
    "for i in range(len(last_name)):\n",
    "    reverse_name.append(last_name[i])\n",
    "\n",
    "reverse_name.reverse()\n",
    "for i in range(len(reverse_name)):\n",
    "    s = s+ reverse_name[i]\n",
    "    \n",
    "print(s)\n",
    "    \n"
   ]
  },
  {
   "cell_type": "code",
   "execution_count": null,
   "metadata": {},
   "outputs": [],
   "source": [
    "'''\n",
    "3. Write a Python program to find the volume of a sphere with diameter 12 cm.\n",
    "Formula: V=4/3 * π * r 3\n",
    "'''\n",
    "\n",
    "v = 4/3 * 3.14 * (6*6*6)\n",
    "\n",
    "print(v)"
   ]
  },
  {
   "cell_type": "code",
   "execution_count": null,
   "metadata": {},
   "outputs": [],
   "source": []
  },
  {
   "cell_type": "code",
   "execution_count": null,
   "metadata": {},
   "outputs": [],
   "source": []
  }
 ],
 "metadata": {
  "colab": {
   "authorship_tag": "ABX9TyPwqE8eNX54oitNkjCOwM+y",
   "name": "python assignment 1.ipynb",
   "provenance": []
  },
  "kernelspec": {
   "display_name": "Python 3",
   "language": "python",
   "name": "python3"
  },
  "language_info": {
   "codemirror_mode": {
    "name": "ipython",
    "version": 3
   },
   "file_extension": ".py",
   "mimetype": "text/x-python",
   "name": "python",
   "nbconvert_exporter": "python",
   "pygments_lexer": "ipython3",
   "version": "3.7.6"
  }
 },
 "nbformat": 4,
 "nbformat_minor": 1
}
