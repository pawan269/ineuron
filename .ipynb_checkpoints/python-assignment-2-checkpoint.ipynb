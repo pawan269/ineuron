{
 "cells": [
  {
   "cell_type": "code",
   "execution_count": 1,
   "metadata": {
    "colab": {
     "base_uri": "https://localhost:8080/",
     "height": 187
    },
    "colab_type": "code",
    "executionInfo": {
     "elapsed": 978,
     "status": "ok",
     "timestamp": 1592817263958,
     "user": {
      "displayName": "Pawan Pandey",
      "photoUrl": "https://lh3.googleusercontent.com/a-/AOh14GiKye7JpFHJoc6m0v5jvZ2e0qnD5DrVXBnCOPlb1cc=s64",
      "userId": "12374727047427849619"
     },
     "user_tz": -330
    },
    "id": "DDzpIafLcZjT",
    "outputId": "187a5367-9ded-4e91-ab5f-9322e273b033"
   },
   "outputs": [
    {
     "name": "stdout",
     "output_type": "stream",
     "text": [
      "\n",
      "* \n",
      "* * \n",
      "* * * \n",
      "* * * * \n",
      "* * * * * \n",
      "* * * * \n",
      "* * * \n",
      "* * \n",
      "* \n"
     ]
    }
   ],
   "source": [
    "'''\n",
    "1. Create the below pattern using nested for loop in Python.\n",
    "*\n",
    "* *\n",
    "* * *\n",
    "* * * *\n",
    "* * * * *\n",
    "* * * *\n",
    "* * *\n",
    "* *\n",
    "*\n",
    "'''\n",
    "\n",
    "for i in range(5):\n",
    "    for j in range(i):\n",
    "        print(\"*\",end=\" \")\n",
    "    print(\"\")\n",
    "for k in range(5,0,-1):\n",
    "    for l in range(k):\n",
    "        print(\"*\", end=\" \")\n",
    "    print(\"\")"
   ]
  },
  {
   "cell_type": "code",
   "execution_count": 2,
   "metadata": {
    "colab": {
     "base_uri": "https://localhost:8080/",
     "height": 51
    },
    "colab_type": "code",
    "executionInfo": {
     "elapsed": 11776,
     "status": "ok",
     "timestamp": 1592817143123,
     "user": {
      "displayName": "Pawan Pandey",
      "photoUrl": "https://lh3.googleusercontent.com/a-/AOh14GiKye7JpFHJoc6m0v5jvZ2e0qnD5DrVXBnCOPlb1cc=s64",
      "userId": "12374727047427849619"
     },
     "user_tz": -330
    },
    "id": "gB2FRZO0S-Yq",
    "outputId": "2f4e4827-9a28-48d1-fb61-ddd41ac30c0e"
   },
   "outputs": [
    {
     "name": "stdout",
     "output_type": "stream",
     "text": [
      "Your name: pawan\n",
      "nawap"
     ]
    }
   ],
   "source": [
    "'''\n",
    "2. Write a Python program to reverse a word after accepting the input from the user.\n",
    "\n",
    "Input word: ineuron\n",
    "Output: norueni\n",
    "'''\n",
    "s = list(input(\"Your name: \"))\n",
    "s.reverse()\n",
    "for c in s:\n",
    "    print(c,end=\"\")"
   ]
  },
  {
   "cell_type": "code",
   "execution_count": null,
   "metadata": {},
   "outputs": [],
   "source": []
  }
 ],
 "metadata": {
  "colab": {
   "authorship_tag": "ABX9TyPj6uYTHKWomO18QqPXlF6Z",
   "name": "python assignment 2.ipynb",
   "provenance": []
  },
  "kernelspec": {
   "display_name": "Python 3",
   "language": "python",
   "name": "python3"
  },
  "language_info": {
   "codemirror_mode": {
    "name": "ipython",
    "version": 3
   },
   "file_extension": ".py",
   "mimetype": "text/x-python",
   "name": "python",
   "nbconvert_exporter": "python",
   "pygments_lexer": "ipython3",
   "version": "3.7.6"
  }
 },
 "nbformat": 4,
 "nbformat_minor": 1
}
